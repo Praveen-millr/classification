{
 "cells": [
  {
   "cell_type": "code",
   "execution_count": 2,
   "id": "43818e4d-d1eb-4901-ac77-fd73f9149d2c",
   "metadata": {},
   "outputs": [
    {
     "name": "stdin",
     "output_type": "stream",
     "text": [
      "User id: 56473645\n",
      "Age: 34\n",
      "EstimatedSalary: 40000\n",
      "Gender_Male: 1\n"
     ]
    },
    {
     "name": "stderr",
     "output_type": "stream",
     "text": [
      "C:\\anaconda3\\Lib\\site-packages\\sklearn\\utils\\validation.py:2739: UserWarning: X does not have valid feature names, but RandomForestClassifier was fitted with feature names\n",
      "  warnings.warn(\n"
     ]
    },
    {
     "data": {
      "text/plain": [
       "array([0])"
      ]
     },
     "execution_count": 2,
     "metadata": {},
     "output_type": "execute_result"
    }
   ],
   "source": [
    "import pickle\n",
    "filename = 'final_model'\n",
    "loaded_model = pickle.load(open(filename,'rb'))\n",
    "Userid = float(input(\"User id:\"))\n",
    "Age = float(input(\"Age:\"))\n",
    "EstimatedSalary = float(input(\"EstimatedSalary:\"))\n",
    "Gender_Male = int(input(\"Gender_Male:\"))\n",
    "result = loaded_model.predict([[Userid,Age,EstimatedSalary,Gender_Male]])\n",
    "result"
   ]
  },
  {
   "cell_type": "raw",
   "id": "f360622c-740b-48e8-a0a1-1de7f39a30fb",
   "metadata": {},
   "source": [
    "precision    recall  f1-score   support\n",
    "\n",
    "           0       0.94      0.93      0.93        85\n",
    "           1       0.88      0.90      0.89        49\n",
    "\n",
    "    accuracy                           0.92       134\n",
    "   macro avg       0.91      0.91      0.91       134\n",
    "weighted avg       0.92      0.92      0.92       134"
   ]
  },
  {
   "cell_type": "code",
   "execution_count": null,
   "id": "bd1faaa6-3234-4b2f-99b3-559cd735b439",
   "metadata": {},
   "outputs": [],
   "source": []
  }
 ],
 "metadata": {
  "kernelspec": {
   "display_name": "Python [conda env:base] *",
   "language": "python",
   "name": "conda-base-py"
  },
  "language_info": {
   "codemirror_mode": {
    "name": "ipython",
    "version": 3
   },
   "file_extension": ".py",
   "mimetype": "text/x-python",
   "name": "python",
   "nbconvert_exporter": "python",
   "pygments_lexer": "ipython3",
   "version": "3.13.5"
  }
 },
 "nbformat": 4,
 "nbformat_minor": 5
}
